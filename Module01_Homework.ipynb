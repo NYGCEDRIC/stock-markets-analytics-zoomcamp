{
  "nbformat": 4,
  "nbformat_minor": 0,
  "metadata": {
    "colab": {
      "provenance": [],
      "authorship_tag": "ABX9TyNlmrq7xUZIEmIAhVPbGgo2",
      "include_colab_link": true
    },
    "kernelspec": {
      "name": "python3",
      "display_name": "Python 3"
    },
    "language_info": {
      "name": "python"
    }
  },
  "cells": [
    {
      "cell_type": "markdown",
      "metadata": {
        "id": "view-in-github",
        "colab_type": "text"
      },
      "source": [
        "<a href=\"https://colab.research.google.com/github/NYGCEDRIC/stock-markets-analytics-zoomcamp/blob/main/Module01_Homework.ipynb\" target=\"_parent\"><img src=\"https://colab.research.google.com/assets/colab-badge.svg\" alt=\"Open In Colab\"/></a>"
      ]
    },
    {
      "cell_type": "code",
      "execution_count": 2,
      "metadata": {
        "colab": {
          "base_uri": "https://localhost:8080/"
        },
        "id": "Sw9-ZPqXxXV4",
        "outputId": "e2619089-5292-4173-eb31-74418febcab0"
      },
      "outputs": [
        {
          "output_type": "stream",
          "name": "stdout",
          "text": [
            "Requirement already satisfied: yfinance in /usr/local/lib/python3.10/dist-packages (0.2.38)\n",
            "Requirement already satisfied: pandas>=1.3.0 in /usr/local/lib/python3.10/dist-packages (from yfinance) (2.0.3)\n",
            "Requirement already satisfied: numpy>=1.16.5 in /usr/local/lib/python3.10/dist-packages (from yfinance) (1.25.2)\n",
            "Requirement already satisfied: requests>=2.31 in /usr/local/lib/python3.10/dist-packages (from yfinance) (2.31.0)\n",
            "Requirement already satisfied: multitasking>=0.0.7 in /usr/local/lib/python3.10/dist-packages (from yfinance) (0.0.11)\n",
            "Requirement already satisfied: lxml>=4.9.1 in /usr/local/lib/python3.10/dist-packages (from yfinance) (4.9.4)\n",
            "Requirement already satisfied: appdirs>=1.4.4 in /usr/local/lib/python3.10/dist-packages (from yfinance) (1.4.4)\n",
            "Requirement already satisfied: pytz>=2022.5 in /usr/local/lib/python3.10/dist-packages (from yfinance) (2023.4)\n",
            "Requirement already satisfied: frozendict>=2.3.4 in /usr/local/lib/python3.10/dist-packages (from yfinance) (2.4.2)\n",
            "Requirement already satisfied: peewee>=3.16.2 in /usr/local/lib/python3.10/dist-packages (from yfinance) (3.17.3)\n",
            "Requirement already satisfied: beautifulsoup4>=4.11.1 in /usr/local/lib/python3.10/dist-packages (from yfinance) (4.12.3)\n",
            "Requirement already satisfied: html5lib>=1.1 in /usr/local/lib/python3.10/dist-packages (from yfinance) (1.1)\n",
            "Requirement already satisfied: soupsieve>1.2 in /usr/local/lib/python3.10/dist-packages (from beautifulsoup4>=4.11.1->yfinance) (2.5)\n",
            "Requirement already satisfied: six>=1.9 in /usr/local/lib/python3.10/dist-packages (from html5lib>=1.1->yfinance) (1.16.0)\n",
            "Requirement already satisfied: webencodings in /usr/local/lib/python3.10/dist-packages (from html5lib>=1.1->yfinance) (0.5.1)\n",
            "Requirement already satisfied: python-dateutil>=2.8.2 in /usr/local/lib/python3.10/dist-packages (from pandas>=1.3.0->yfinance) (2.8.2)\n",
            "Requirement already satisfied: tzdata>=2022.1 in /usr/local/lib/python3.10/dist-packages (from pandas>=1.3.0->yfinance) (2024.1)\n",
            "Requirement already satisfied: charset-normalizer<4,>=2 in /usr/local/lib/python3.10/dist-packages (from requests>=2.31->yfinance) (3.3.2)\n",
            "Requirement already satisfied: idna<4,>=2.5 in /usr/local/lib/python3.10/dist-packages (from requests>=2.31->yfinance) (3.7)\n",
            "Requirement already satisfied: urllib3<3,>=1.21.1 in /usr/local/lib/python3.10/dist-packages (from requests>=2.31->yfinance) (2.0.7)\n",
            "Requirement already satisfied: certifi>=2017.4.17 in /usr/local/lib/python3.10/dist-packages (from requests>=2.31->yfinance) (2024.2.2)\n"
          ]
        }
      ],
      "source": [
        "!pip install yfinance"
      ]
    },
    {
      "cell_type": "code",
      "source": [
        "# IMPORTS\n",
        "import numpy as np\n",
        "import pandas as pd\n",
        "\n",
        "#Fin Data Sources\n",
        "import yfinance as yf\n",
        "import pandas_datareader as pdr\n",
        "\n",
        "#Data viz\n",
        "import plotly.graph_objs as go\n",
        "import plotly.express as px\n",
        "\n",
        "import time\n",
        "from datetime import date"
      ],
      "metadata": {
        "id": "xCoWMU2bxetG"
      },
      "execution_count": 3,
      "outputs": []
    },
    {
      "cell_type": "code",
      "source": [
        "# Question 1\n",
        "import pandas as pd\n",
        "import pandas_datareader.data as pdr\n",
        "from datetime import date\n",
        "\n",
        "# Set start and end dates for data retrieval\n",
        "start_date = '2020-01-01'  # Start from 2020 to ensure we capture pre-2023 data for comparison\n",
        "end_date = '2023-12-31'\n",
        "\n",
        "# Fetch GDP data\n",
        "gdp_data = pdr.DataReader('GDP', 'fred', start_date, end_date)\n",
        "\n",
        "# Calculate Year-over-Year percentage growth\n",
        "gdp_data['YoY Growth'] = gdp_data['GDP'].pct_change(4) * 100\n",
        "\n",
        "# Filter for 2023 and calculate average growth\n",
        "gdp_2023 = gdp_data[gdp_data.index.year == 2023]\n",
        "average_growth_2023 = gdp_2023['YoY Growth'].mean()\n",
        "\n",
        "print(f\"Average GDP Growth in 2023: {average_growth_2023:.2f}%\")\n"
      ],
      "metadata": {
        "colab": {
          "base_uri": "https://localhost:8080/"
        },
        "id": "Ngx6LEryxjmS",
        "outputId": "549284c5-067a-404b-9be3-782b202b5167"
      },
      "execution_count": 4,
      "outputs": [
        {
          "output_type": "stream",
          "name": "stdout",
          "text": [
            "Average GDP Growth in 2023: 6.29%\n"
          ]
        }
      ]
    },
    {
      "cell_type": "code",
      "source": [
        "# Question 2\n",
        "\n",
        "treasury_yield_data = pdr.DataReader('DGS10', 'fred', start_date, end_date)  # 10-year Treasury yield\n",
        "\n",
        "# Calculate the inverse of the latest treasury yield (assuming annual average if multiple)\n",
        "latest_yield = treasury_yield_data.iloc[-1, 0]\n",
        "inverse_yield = -1 / latest_yield\n",
        "\n",
        "print(f\"Inverse of the latest Treasury Yield: {inverse_yield:.2f}\")\n"
      ],
      "metadata": {
        "colab": {
          "base_uri": "https://localhost:8080/"
        },
        "id": "hMTIvgr0yYn8",
        "outputId": "9aaab82f-d40c-4f86-9e28-031353d0ae0d"
      },
      "execution_count": 5,
      "outputs": [
        {
          "output_type": "stream",
          "name": "stdout",
          "text": [
            "Inverse of the latest Treasury Yield: -0.26\n"
          ]
        }
      ]
    },
    {
      "cell_type": "code",
      "source": [
        "# Question 3\n",
        "\n",
        "import yfinance as yf\n",
        "\n",
        "# Define indices to compare\n",
        "indices = ['^GSPC', '^DJI', '^IXIC']  # S&P 500, Dow Jones, NASDAQ\n",
        "index_data = {index: yf.download(index, start='2023-01-01', end='2023-12-31')['Adj Close'] for index in indices}\n",
        "\n",
        "# Calculate the return from the beginning to the end of the year\n",
        "index_performance = {index: (data.iloc[-1] - data.iloc[0]) / data.iloc[0] for index, data in index_data.items()}\n",
        "\n",
        "# Find the best performing index\n",
        "best_index = max(index_performance, key=index_performance.get)\n",
        "best_performance = index_performance[best_index]\n",
        "\n",
        "print(f\"Best performing index: {best_index} with a return of {best_performance:.2%}\")\n"
      ],
      "metadata": {
        "colab": {
          "base_uri": "https://localhost:8080/"
        },
        "id": "MPqq7XMlyn5c",
        "outputId": "fc6c30d6-3210-4138-8a72-8840864ba93a"
      },
      "execution_count": 6,
      "outputs": [
        {
          "output_type": "stream",
          "name": "stderr",
          "text": [
            "[*********************100%%**********************]  1 of 1 completed\n",
            "[*********************100%%**********************]  1 of 1 completed\n",
            "[*********************100%%**********************]  1 of 1 completed"
          ]
        },
        {
          "output_type": "stream",
          "name": "stdout",
          "text": [
            "Best performing index: ^IXIC with a return of 44.52%\n"
          ]
        },
        {
          "output_type": "stream",
          "name": "stderr",
          "text": [
            "\n"
          ]
        }
      ]
    },
    {
      "cell_type": "code",
      "source": [
        "# Question 4\n",
        "\n",
        "# Fetching data for a stock, e.g., AAPL\n",
        "stock_data = yf.download('AAPL', period='1y')\n",
        "\n",
        "# Calculate the 52-week high and low\n",
        "high = stock_data['High'].max()\n",
        "low = stock_data['Low'].min()\n",
        "\n",
        "# Calculate the range ratio\n",
        "range_ratio = (high - low) / low\n",
        "\n",
        "print(f\"52-weeks range ratio for AAPL: {range_ratio:.2f}\")\n",
        "\n"
      ],
      "metadata": {
        "colab": {
          "base_uri": "https://localhost:8080/"
        },
        "id": "2GOh7rXwyu0B",
        "outputId": "273c9915-5b74-4191-c7c7-a030b6b7175b"
      },
      "execution_count": 7,
      "outputs": [
        {
          "output_type": "stream",
          "name": "stderr",
          "text": [
            "\r[*********************100%%**********************]  1 of 1 completed"
          ]
        },
        {
          "output_type": "stream",
          "name": "stdout",
          "text": [
            "52-weeks range ratio for AAPL: 0.23\n"
          ]
        },
        {
          "output_type": "stream",
          "name": "stderr",
          "text": [
            "\n"
          ]
        }
      ]
    },
    {
      "cell_type": "code",
      "source": [
        "# question 5\n",
        "ko_data = yf.Ticker(\"KO\")\n",
        "\n",
        "# Get last year's dividends and the most recent price\n",
        "dividends = ko_data.dividends[-4:].sum()  # Sum of the last four quarters\n",
        "price = ko_data.history(period='1d')['Close'].iloc[-1]\n",
        "\n",
        "# Calculate dividend yield\n",
        "dividend_yield = (dividends / price) * 100\n",
        "\n",
        "print(f\"Dividend Yield for Coca-Cola: {dividend_yield:.2f}%\")\n"
      ],
      "metadata": {
        "colab": {
          "base_uri": "https://localhost:8080/"
        },
        "id": "PezHsDRsy5bp",
        "outputId": "96791f17-9df3-4a3e-f014-b4e65654c4ea"
      },
      "execution_count": 8,
      "outputs": [
        {
          "output_type": "stream",
          "name": "stdout",
          "text": [
            "Dividend Yield for Coca-Cola: 3.03%\n"
          ]
        }
      ]
    }
  ]
}